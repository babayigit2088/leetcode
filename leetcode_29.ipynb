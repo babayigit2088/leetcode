{
 "cells": [
  {
   "cell_type": "code",
   "execution_count": null,
   "metadata": {},
   "outputs": [],
   "source": [
    "class Solution(object):\n",
    "    def divide(self, dividend, divisor):\n",
    "        \"\"\"\n",
    "        :type dividend: int\n",
    "        :type divisor: int\n",
    "        :rtype: int\n",
    "        \"\"\"\n",
    "        if dividend<-1 and divisor==-1:\n",
    "            d=abs(dividend)//abs(divisor)\n",
    "            return d-1\n",
    "        if dividend>=0 and divisor>0:\n",
    "            return dividend//divisor\n",
    "        if dividend<0 and divisor>0:\n",
    "            a=abs(dividend)//divisor\n",
    "            return -a\n",
    "        if divisor<0 and dividend>=0:\n",
    "            b=dividend//abs(divisor)\n",
    "            return -b\n",
    "        if dividend<0 and divisor<0:\n",
    "            c=dividend//divisor\n",
    "            return c"
   ]
  }
 ],
 "metadata": {
  "kernelspec": {
   "display_name": "Python 3",
   "language": "python",
   "name": "python3"
  },
  "language_info": {
   "codemirror_mode": {
    "name": "ipython",
    "version": 3
   },
   "file_extension": ".py",
   "mimetype": "text/x-python",
   "name": "python",
   "nbconvert_exporter": "python",
   "pygments_lexer": "ipython3",
   "version": "3.6.5"
  }
 },
 "nbformat": 4,
 "nbformat_minor": 2
}
