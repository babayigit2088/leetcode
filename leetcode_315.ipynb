{
 "cells": [
  {
   "cell_type": "code",
   "execution_count": null,
   "metadata": {},
   "outputs": [],
   "source": [
    "class Solution:\n",
    "    def countSmaller(self, nums):\n",
    "        \n",
    "        new_list=[]\n",
    "\n",
    "        for i,y in enumerate(nums):\n",
    "            count=0\n",
    "    \n",
    "            my_list1=nums[i:]\n",
    "    \n",
    "            for x in my_list1:\n",
    "                if x<y:\n",
    "                    count+=1\n",
    "            new_list.append(count)\n",
    "        return new_list"
   ]
  }
 ],
 "metadata": {
  "kernelspec": {
   "display_name": "Python 3",
   "language": "python",
   "name": "python3"
  },
  "language_info": {
   "codemirror_mode": {
    "name": "ipython",
    "version": 3
   },
   "file_extension": ".py",
   "mimetype": "text/x-python",
   "name": "python",
   "nbconvert_exporter": "python",
   "pygments_lexer": "ipython3",
   "version": "3.6.5"
  }
 },
 "nbformat": 4,
 "nbformat_minor": 2
}
